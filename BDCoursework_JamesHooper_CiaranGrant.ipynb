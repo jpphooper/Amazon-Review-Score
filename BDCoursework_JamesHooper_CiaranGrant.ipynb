{
 "cells": [
  {
   "cell_type": "markdown",
   "metadata": {
    "deletable": true,
    "editable": true
   },
   "source": [
    "# Big Data Coursework 2"
   ]
  },
  {
   "cell_type": "markdown",
   "metadata": {},
   "source": [
    "## Part 1: Import Libraries & Initialize SparkSession"
   ]
  },
  {
   "cell_type": "code",
   "execution_count": 67,
   "metadata": {
    "collapsed": false,
    "deletable": true,
    "editable": true
   },
   "outputs": [],
   "source": [
    "# Importing all necessary libraries and functions\n",
    "\n",
    "import re \n",
    "from operator import add\n",
    "from pyspark.ml import *\n",
    "from pyspark.ml.classification import *\n",
    "from pyspark.ml.feature import *\n",
    "from pyspark.ml.param import *\n",
    "from pyspark.ml.tuning import *\n",
    "from pyspark.ml.evaluation import *\n",
    "from pyspark.sql import *\n",
    "from pyspark.sql import functions as F\n",
    "from pyspark.ml.linalg import Vector\n",
    "from pyspark.mllib.evaluation import MulticlassMetrics\n",
    "import pixiedust\n",
    "from time import time\n",
    "\n",
    "from pyspark.sql.types import Row\n",
    "from pyspark.sql import SQLContext\n",
    "from pyspark import SparkContext\n",
    "\n",
    "sc = SparkContext.getOrCreate()\n",
    "sqlContext = SQLContext(sc)\n",
    "spark = SparkSession.builder.getOrCreate()\n"
   ]
  },
  {
   "cell_type": "markdown",
   "metadata": {},
   "source": [
    "## Part 2: Data Preprocessing"
   ]
  },
  {
   "cell_type": "code",
   "execution_count": 2,
   "metadata": {
    "collapsed": false,
    "deletable": true,
    "editable": true
   },
   "outputs": [
    {
     "name": "stdout",
     "output_type": "stream",
     "text": [
      "+--------------------+-----+\n",
      "|                Text|label|\n",
      "+--------------------+-----+\n",
      "|I have bought sev...|  5.0|\n",
      "|\"Product arrived ...|  1.0|\n",
      "|\"This is a confec...|  4.0|\n",
      "|If you are lookin...|  2.0|\n",
      "|Great taffy at a ...|  5.0|\n",
      "|I got a wild hair...|  4.0|\n",
      "|This saltwater ta...|  5.0|\n",
      "|This taffy is so ...|  5.0|\n",
      "|Right now I'm mos...|  5.0|\n",
      "|This is a very he...|  5.0|\n",
      "|I don't know if i...|  5.0|\n",
      "|One of my boys ne...|  5.0|\n",
      "|My cats have been...|  1.0|\n",
      "|good flavor! thes...|  4.0|\n",
      "|The Strawberry Tw...|  5.0|\n",
      "|My daughter loves...|  5.0|\n",
      "|I love eating the...|  2.0|\n",
      "|I am very satisfi...|  5.0|\n",
      "|Twizzlers, Strawb...|  5.0|\n",
      "|Candy was deliver...|  5.0|\n",
      "+--------------------+-----+\n",
      "only showing top 20 rows\n",
      "\n",
      "root\n",
      " |-- Text: string (nullable = true)\n",
      " |-- label: double (nullable = true)\n",
      "\n"
     ]
    },
    {
     "data": {
      "text/plain": [
       "DataFrame[Text: string, label: double]"
      ]
     },
     "execution_count": 2,
     "metadata": {},
     "output_type": "execute_result"
    }
   ],
   "source": [
    "dirPath = 'hdfs://saltdean/data/reviews/Reviews.csv' # Path to the Amazon Reviews dataset\n",
    "\n",
    "df = spark.read.format(\"csv\").option(\"header\", \"true\").load(dirPath) # Read the dataset into a dataframe\n",
    "df.createOrReplaceTempView(\"reviews\") # tag it as reviews so it can be called in SQL\n",
    "\n",
    "# Text in the review will be used to predict the review score \n",
    "\n",
    "SQL1 = \"SELECT Score, Text FROM reviews WHERE Score in (1,2,3,4,5)\" # Since there was some erroneous data in the score column,\n",
    "# it was filtered for scores between 1 and 5.\n",
    "Score_DF = spark.sql(SQL1)\n",
    "Score_DF = Score_DF.withColumn(\"Score2\",Score_DF.Score.cast(\"double\")).drop(\"Score\").withColumnRenamed(\"Score2\",\"label\")\n",
    "Score_DF.show()\n",
    "Score_DF.printSchema()\n",
    "Score_DF.na.drop()"
   ]
  },
  {
   "cell_type": "code",
   "execution_count": 3,
   "metadata": {
    "collapsed": false,
    "pixiedust": {
     "displayParams": {
      "chartsize": "100",
      "handlerId": "barChart",
      "keyFields": "Score",
      "legend": "false",
      "title": "Distribution of Review Scores",
      "valueFields": "count(Score)"
     }
    }
   },
   "outputs": [
    {
     "data": {
      "text/html": [
       "<style type=\"text/css\">.pd_warning{display:none;}</style><div class=\"pd_warning\"><em>Hey, there's something awesome here! To see it, open this notebook outside GitHub, in a viewer like Jupyter</em></div>\n",
       "        <div class=\"pd_save is-viewer-good\" style=\"padding-right:10px;text-align: center;line-height:initial !important;font-size: xx-large;font-weight: 500;color: coral;\">\n",
       "            Distribution of Review Scores\n",
       "        </div>\n",
       "    <div id=\"chartFigure26180cf1\" class=\"pd_save is-viewer-good\" style=\"overflow-x:auto\">\n",
       "            \n",
       "                    \n",
       "                            <center><img style=\"max-width:initial !important\" src=\"data:image/png;base64,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\" class=\"pd_save\"></center>\n",
       "                        \n",
       "                    \n",
       "                \n",
       "        </div>"
      ],
      "text/plain": [
       "<IPython.core.display.HTML object>"
      ]
     },
     "metadata": {},
     "output_type": "display_data"
    }
   ],
   "source": [
    "# Finding the distribution of scores in the dataset\n",
    "\n",
    "SQL2 = \"SELECT Score, Count(Score) FROM reviews WHERE Score in (1,2,3,4,5) GROUP BY Score\"\n",
    "Score_Count = spark.sql(SQL2)\n",
    "Score_Count.show()\n",
    "\n",
    "# 5 is 1\n",
    "# 4 is 4.5\n",
    "# 1 is 7\n",
    "# 3 is 8\n",
    "# 2 is 12\n",
    "\n",
    "# Adding in a weight column, which we were unable to use as no spark ML classifiers support it at this stage.\n",
    "# This should have helped mitigate the problem of certain classifiers having way more data.\n",
    "\n",
    "Score_DF = Score_DF.withColumn(\"weight\", F.when(Score_DF.label == 5.0, 1.0).when(Score_DF.label == 4.0, 4.5).when(Score_DF.label == 3.0, 8.0).when(Score_DF.label == 2.0, 12.0).otherwise(7.0))\n",
    "\n",
    "display(Score_Count)"
   ]
  },
  {
   "cell_type": "markdown",
   "metadata": {},
   "source": [
    "## Part 3: Train/Test Split"
   ]
  },
  {
   "cell_type": "code",
   "execution_count": 4,
   "metadata": {
    "collapsed": false,
    "deletable": true,
    "editable": true
   },
   "outputs": [],
   "source": [
    "train_set, test_set = Score_DF.randomSplit([0.8,0.2],123) # Split data into training and test\n",
    "\n",
    "# Vary the size of training sets by random sampling to be ussed alongside the paramgrid\n",
    "\n",
    "train_set2 = train_set.sample(True, 0.2) # 20% of original training set size \n",
    "train_set3 = train_set.sample(True, 0.4) # 40% of original training set size\n",
    "train_set4 = train_set.sample(True, 0.6) # 60% of original training set size\n",
    "train_set5 = train_set.sample(True, 0.8) # 80% of original training set size\n"
   ]
  },
  {
   "cell_type": "markdown",
   "metadata": {},
   "source": [
    "## Part 4: Pipeline "
   ]
  },
  {
   "cell_type": "code",
   "execution_count": 5,
   "metadata": {
    "collapsed": false,
    "deletable": true,
    "editable": true
   },
   "outputs": [],
   "source": [
    "# Used so predictions and labels are interpretable\n",
    "labelIndexer = StringIndexer(inputCol = 'label', outputCol = 'indexedlabel') \n",
    "\n",
    "# Split into words/tokens\n",
    "tokenizer = Tokenizer(inputCol='Text',outputCol='words').setInputCol('Text').setOutputCol('words') \n",
    "\n",
    "# Remove Stop words\n",
    "remover = StopWordsRemover(inputCol = 'words', outputCol = 'filtered', caseSensitive = False) \n",
    "\n",
    "# Create field where tokens are grouped into two\n",
    "ngram2 = NGram(n=2, inputCol=\"filtered\", outputCol=\"ngrams2\") \n",
    "\n",
    "# Create field where tokens are grouped into three\n",
    "ngram3 = NGram(n=3, inputCol=\"filtered\", outputCol=\"ngrams3\") \n",
    "\n",
    "# Hash the words into a fixed vector list\n",
    "hashingTF = HashingTF().setNumFeatures(1000).setInputCol('filtered').setOutputCol('rawFeatures') \n",
    "\n",
    "# Hash the 2gram vectors into a fixed vector list\n",
    "hashingTF2 = HashingTF().setNumFeatures(1000).setInputCol('ngrams2').setOutputCol('rawFeatures2') \n",
    "\n",
    "# Hash the 3gram vectors into a fixed vector list\n",
    "hashingTF3 = HashingTF().setNumFeatures(1000).setInputCol('ngrams3').setOutputCol('rawFeatures3') \n",
    "\n",
    "# Assemble the words, 2gram and 3gram vectors into a single vector\n",
    "Assembler = VectorAssembler(inputCols = ['rawFeatures','rawFeatures2','rawFeatures3'], outputCol = 'features') \n",
    "\n",
    "#nb = NaiveBayes().setLabelCol('indexedlabel').setModelType('multinomial').setSmoothing(1) # Not enough parameters to parameter tune\n",
    "#lr = LogisticRegression(labelCol = 'indexedlabel', maxIter=10, regParam=0.3) # Binary classification, we want 5 classifications\n",
    "rf = RandomForestClassifier().setLabelCol('indexedlabel').setNumTrees(5) # Chosen classifier, needs parameter tuning and multiple classification allowed\n",
    "\n",
    "#labelConverter = IndexToString(inputCol = 'prediction', outputCol = 'predictedlabels')\n",
    "\n",
    "# Pipeline to attach all our functions together\n",
    "pipeline=Pipeline(stages=[labelIndexer,tokenizer,remover,ngram2,ngram3,hashingTF,hashingTF2,hashingTF3,Assembler,rf])"
   ]
  },
  {
   "cell_type": "code",
   "execution_count": 6,
   "metadata": {
    "collapsed": false,
    "deletable": true,
    "editable": true
   },
   "outputs": [
    {
     "name": "stdout",
     "output_type": "stream",
     "text": [
      "LabelIndexer: handleInvalid: how to handle invalid entries. Options are skip (which will filter out rows with bad values), or error (which will throw an error). More options may be added later. (default: error)\n",
      "inputCol: input column name. (current: label)\n",
      "outputCol: output column name. (default: StringIndexer_43d7a6ce622b5edd400d__output, current: indexedlabel)\n",
      "\n",
      "\n",
      "\n",
      "Tokenizer: inputCol: input column name. (current: Text)\n",
      "outputCol: output column name. (default: Tokenizer_4ba79f93f3bfcfa2da7f__output, current: words)\n",
      "\n",
      "\n",
      "\n",
      "Remover: caseSensitive: whether to do a case sensitive comparison over the stop words (default: False, current: False)\n",
      "inputCol: input column name. (current: words)\n",
      "outputCol: output column name. (default: StopWordsRemover_491aa339b48ee081d4ec__output, current: filtered)\n",
      "stopWords: The words to be filtered out (default: ['i', 'me', 'my', 'myself', 'we', 'our', 'ours', 'ourselves', 'you', 'your', 'yours', 'yourself', 'yourselves', 'he', 'him', 'his', 'himself', 'she', 'her', 'hers', 'herself', 'it', 'its', 'itself', 'they', 'them', 'their', 'theirs', 'themselves', 'what', 'which', 'who', 'whom', 'this', 'that', 'these', 'those', 'am', 'is', 'are', 'was', 'were', 'be', 'been', 'being', 'have', 'has', 'had', 'having', 'do', 'does', 'did', 'doing', 'a', 'an', 'the', 'and', 'but', 'if', 'or', 'because', 'as', 'until', 'while', 'of', 'at', 'by', 'for', 'with', 'about', 'against', 'between', 'into', 'through', 'during', 'before', 'after', 'above', 'below', 'to', 'from', 'up', 'down', 'in', 'out', 'on', 'off', 'over', 'under', 'again', 'further', 'then', 'once', 'here', 'there', 'when', 'where', 'why', 'how', 'all', 'any', 'both', 'each', 'few', 'more', 'most', 'other', 'some', 'such', 'no', 'nor', 'not', 'only', 'own', 'same', 'so', 'than', 'too', 'very', 's', 't', 'can', 'will', 'just', 'don', 'should', 'now', 'd', 'll', 'm', 'o', 're', 've', 'y', 'ain', 'aren', 'couldn', 'didn', 'doesn', 'hadn', 'hasn', 'haven', 'isn', 'ma', 'mightn', 'mustn', 'needn', 'shan', 'shouldn', 'wasn', 'weren', 'won', 'wouldn'])\n",
      "\n",
      "\n",
      "\n",
      "Ngram2: inputCol: input column name. (current: filtered)\n",
      "n: number of elements per n-gram (>=1) (default: 2, current: 2)\n",
      "outputCol: output column name. (default: NGram_49b9a7ee3289bc6d777c__output, current: ngrams2)\n",
      "\n",
      "\n",
      "\n",
      "Ngram3: inputCol: input column name. (current: filtered)\n",
      "n: number of elements per n-gram (>=1) (default: 2, current: 3)\n",
      "outputCol: output column name. (default: NGram_4b5b9b1f75560d15ceb7__output, current: ngrams3)\n",
      "\n",
      "\n",
      "\n",
      "HashingTF: binary: If True, all non zero counts are set to 1. This is useful for discrete probabilistic models that model binary events rather than integer counts. Default False. (default: False)\n",
      "inputCol: input column name. (current: filtered)\n",
      "numFeatures: number of features. (default: 262144, current: 1000)\n",
      "outputCol: output column name. (default: HashingTF_4f4798771ec64440e2f0__output, current: rawFeatures)\n",
      "\n",
      "\n",
      "\n",
      "HashingTF2: binary: If True, all non zero counts are set to 1. This is useful for discrete probabilistic models that model binary events rather than integer counts. Default False. (default: False)\n",
      "inputCol: input column name. (current: ngrams2)\n",
      "numFeatures: number of features. (default: 262144, current: 1000)\n",
      "outputCol: output column name. (default: HashingTF_4be1a3206add86f84ee7__output, current: rawFeatures2)\n",
      "\n",
      "\n",
      "\n",
      "HashingTF3: binary: If True, all non zero counts are set to 1. This is useful for discrete probabilistic models that model binary events rather than integer counts. Default False. (default: False)\n",
      "inputCol: input column name. (current: ngrams3)\n",
      "numFeatures: number of features. (default: 262144, current: 1000)\n",
      "outputCol: output column name. (default: HashingTF_4dcf83cfcd12dbec721c__output, current: rawFeatures3)\n",
      "\n",
      "\n",
      "\n",
      "Assembler: inputCols: input column names. (current: ['rawFeatures', 'rawFeatures2', 'rawFeatures3'])\n",
      "outputCol: output column name. (default: VectorAssembler_4ddeac9e1515faa11c4c__output, current: features)\n",
      "\n",
      "\n",
      "\n",
      "Pipeline: stages: pipeline stages (current: [StringIndexer_43d7a6ce622b5edd400d, Tokenizer_4ba79f93f3bfcfa2da7f, StopWordsRemover_491aa339b48ee081d4ec, NGram_49b9a7ee3289bc6d777c, NGram_4b5b9b1f75560d15ceb7, HashingTF_4f4798771ec64440e2f0, HashingTF_4be1a3206add86f84ee7, HashingTF_4dcf83cfcd12dbec721c, VectorAssembler_4ddeac9e1515faa11c4c, RandomForestClassifier_4ab19d3c39701a587a06])\n",
      "\n",
      "\n",
      "\n"
     ]
    }
   ],
   "source": [
    "# Get information for each parameter  using the .explainParams()\n",
    "print (\"LabelIndexer:\",labelIndexer.explainParams())\n",
    "print(\"\\n\\n\")\n",
    "print (\"Tokenizer:\",tokenizer.explainParams())\n",
    "print(\"\\n\\n\")\n",
    "print (\"Remover:\",remover.explainParams())\n",
    "print(\"\\n\\n\")\n",
    "print (\"Ngram2:\",ngram2.explainParams())\n",
    "print(\"\\n\\n\")\n",
    "print (\"Ngram3:\",ngram3.explainParams())\n",
    "print(\"\\n\\n\")\n",
    "print (\"HashingTF:\",hashingTF.explainParams())\n",
    "print (\"\\n\\n\")\n",
    "print (\"HashingTF2:\",hashingTF2.explainParams())\n",
    "print (\"\\n\\n\")\n",
    "print (\"HashingTF3:\",hashingTF3.explainParams())\n",
    "print (\"\\n\\n\")\n",
    "print (\"Assembler:\",Assembler.explainParams())\n",
    "print(\"\\n\\n\")\n",
    "\n",
    "print (\"Pipeline:\",pipeline.explainParams())\n",
    "print(\"\\n\\n\")"
   ]
  },
  {
   "cell_type": "markdown",
   "metadata": {},
   "source": [
    "## Part 5: Model Selection"
   ]
  },
  {
   "cell_type": "code",
   "execution_count": 16,
   "metadata": {
    "collapsed": false
   },
   "outputs": [],
   "source": [
    "# Multiple classifier evaluation \n",
    "evaluator = MulticlassClassificationEvaluator(predictionCol = 'prediction', labelCol=\"indexedlabel\", metricName=\"accuracy\")\n",
    "\n",
    "# Chosen parameters for parameter tuning from Hashing and Random Forest\n",
    "paramGrid = ParamGridBuilder()\\\n",
    ".addGrid(hashingTF.numFeatures,[500,1000,1500])\\\n",
    ".addGrid(rf.numTrees, [5,10,15])\\\n",
    ".build()\n",
    "\n",
    "# Compile all work into a single function for training 80% of training data and evaluate on 20%\n",
    "TV = TrainValidationSplit()\\\n",
    ".setEstimator(pipeline)\\\n",
    ".setEvaluator(evaluator)\\\n",
    ".setEstimatorParamMaps(paramGrid)\\\n",
    ".setTrainRatio(0.8)"
   ]
  },
  {
   "cell_type": "markdown",
   "metadata": {},
   "source": [
    "## Part 6: Training"
   ]
  },
  {
   "cell_type": "code",
   "execution_count": 17,
   "metadata": {
    "collapsed": false
   },
   "outputs": [
    {
     "name": "stdout",
     "output_type": "stream",
     "text": [
      "Time Taken to Train on full training set: 2844.32155418396\n",
      "Time Taken to Train on 20% of training set: 816.2523674964905\n",
      "Time Taken to Train on 40% of training set: 1378.9382939338684\n",
      "Time Taken to Train on 60% of training set: 1969.3387386798859\n",
      "Time Taken to Train on 80% of training set: 2738.700607061386\n"
     ]
    }
   ],
   "source": [
    "# Training the models on the training data\n",
    "# Time taken to train is appended to an array for later use in visualisations.\n",
    "\n",
    "Time = []\n",
    "\n",
    "startTime = time()\n",
    "TVModel = TV.fit(train_set)\n",
    "endTime = time()\n",
    "print(\"Time Taken to Train on full training set:\", endTime-startTime)\n",
    "\n",
    "Time.append(['100%', 'Train', endTime-startTime])\n",
    "\n",
    "startTime = time()\n",
    "TVModel2 = TV.fit(train_set2)\n",
    "endTime = time()\n",
    "print(\"Time Taken to Train on 20% of training set:\", endTime-startTime)\n",
    "\n",
    "Time.append(['20%', 'Train', endTime-startTime])\n",
    "\n",
    "startTime = time()\n",
    "TVModel3 = TV.fit(train_set3)\n",
    "endTime = time()\n",
    "print(\"Time Taken to Train on 40% of training set:\", endTime-startTime)\n",
    "\n",
    "Time.append(['40%', 'Train', endTime-startTime])\n",
    "\n",
    "startTime = time()\n",
    "TVModel4 = TV.fit(train_set4)\n",
    "endTime = time()\n",
    "print(\"Time Taken to Train on 60% of training set:\", endTime-startTime)\n",
    "\n",
    "Time.append(['60%', 'Train', endTime-startTime])\n",
    "\n",
    "startTime = time()\n",
    "TVModel5 = TV.fit(train_set5)\n",
    "endTime = time()\n",
    "print(\"Time Taken to Train on 80% of training set:\", endTime-startTime)\n",
    "\n",
    "Time.append(['80%', 'Train', endTime-startTime])"
   ]
  },
  {
   "cell_type": "markdown",
   "metadata": {},
   "source": [
    "## Part 7: Testing & Evaluation"
   ]
  },
  {
   "cell_type": "code",
   "execution_count": 19,
   "metadata": {
    "collapsed": false
   },
   "outputs": [
    {
     "name": "stdout",
     "output_type": "stream",
     "text": [
      "Accuracy for best fitted model (all training data) = 0.6372609500308452\n",
      "Time Taken to Test on full training set: 46.780184268951416\n",
      "Accuracy for best fitted model (20% training data) = 0.6372785758350225\n",
      "Time Taken to Test on 20% of training set: 47.54750633239746\n",
      "Accuracy for best fitted model (40% training data) = 0.6372873887371111\n",
      "Time Taken to Test on 40% of training set: 47.275522232055664\n",
      "Accuracy for best fitted model (60% training data) = 0.6372168855204019\n",
      "Time Taken to Test on 60% of training set: 48.2775936126709\n",
      "Accuracy for best fitted model (80% training data) = 0.6372873887371111\n",
      "Time Taken to Test on 80% of training set: 47.6242413520813\n"
     ]
    }
   ],
   "source": [
    "# Evaluating the models on the testing data\n",
    "# Time taken to train is appended to an array for later use in visualisations.\n",
    "\n",
    "Results = []\n",
    "\n",
    "resulttrain = evaluator.evaluate(TVModel.transform(train_set))\n",
    "startTime = time()\n",
    "resulttest = evaluator.evaluate(TVModel.transform(test_set))\n",
    "print(\"Accuracy for best fitted model (all training data) =\",resulttest)\n",
    "endTime = time()\n",
    "print(\"Time Taken to Test on full training set:\", endTime-startTime)\n",
    "\n",
    "Time.append(['100%', 'Test', endTime-startTime])\n",
    "Results.append(['100%','Test',resulttest])\n",
    "Results.append(['100%','Train',resulttrain])\n",
    "\n",
    "resulttrain = evaluator.evaluate(TVModel2.transform(train_set2))\n",
    "startTime = time()\n",
    "resulttest = evaluator.evaluate(TVModel2.transform(test_set))\n",
    "print(\"Accuracy for best fitted model (20% training data) =\",resulttest)\n",
    "endTime = time()\n",
    "print(\"Time Taken to Test on 20% of training set:\", endTime-startTime)\n",
    "\n",
    "Time.append(['20%', 'Test', endTime-startTime])\n",
    "Results.append(['20%','Test',resulttest])\n",
    "Results.append(['20%','Train',resulttrain])\n",
    "\n",
    "\n",
    "resulttrain = evaluator.evaluate(TVModel3.transform(train_set3))\n",
    "startTime = time()\n",
    "resulttest = evaluator.evaluate(TVModel3.transform(test_set))\n",
    "print(\"Accuracy for best fitted model (40% training data) =\",resulttest)\n",
    "endTime = time()\n",
    "print(\"Time Taken to Test on 40% of training set:\", endTime-startTime)\n",
    "\n",
    "Time.append(['40%', 'Test', endTime-startTime])\n",
    "Results.append(['40%','Test',resulttest])\n",
    "Results.append(['40%','Train',resulttrain])\n",
    "\n",
    "resulttrain = evaluator.evaluate(TVModel4.transform(train_set4))\n",
    "startTime = time()\n",
    "resulttest = evaluator.evaluate(TVModel4.transform(test_set))\n",
    "print(\"Accuracy for best fitted model (60% training data) =\",resulttest)\n",
    "endTime = time()\n",
    "print(\"Time Taken to Test on 60% of training set:\", endTime-startTime)\n",
    "\n",
    "Time.append(['60%', 'Test', endTime-startTime])\n",
    "Results.append(['60%','Test',resulttest])\n",
    "Results.append(['60%','Train',resulttrain])\n",
    "\n",
    "resulttrain = evaluator.evaluate(TVModel5.transform(train_set5))\n",
    "startTime = time()\n",
    "resulttest = evaluator.evaluate(TVModel5.transform(test_set))\n",
    "print(\"Accuracy for best fitted model (80% training data) =\",resulttest)\n",
    "endTime = time()\n",
    "print(\"Time Taken to Test on 80% of training set:\", endTime-startTime)\n",
    "\n",
    "Time.append(['80%', 'Test', endTime-startTime])\n",
    "Results.append(['80%','Test',resulttest])\n",
    "Results.append(['80%','Train',resulttrain])"
   ]
  },
  {
   "cell_type": "code",
   "execution_count": 62,
   "metadata": {
    "collapsed": false
   },
   "outputs": [
    {
     "name": "stdout",
     "output_type": "stream",
     "text": [
      "20% of Training Data\n",
      "numFeatures =  <bound method HasNumFeatures.getNumFeatures of HashingTF_4f4798771ec64440e2f0>\n",
      "numTrees =  5\n",
      "40% of Training Data\n",
      "numFeatures =  <bound method HasNumFeatures.getNumFeatures of HashingTF_4f4798771ec64440e2f0>\n",
      "numTrees =  10\n",
      "60% of Training Data\n",
      "numFeatures =  <bound method HasNumFeatures.getNumFeatures of HashingTF_4f4798771ec64440e2f0>\n",
      "numTrees =  10\n",
      "80% of Training Data\n",
      "numFeatures =  <bound method HasNumFeatures.getNumFeatures of HashingTF_4f4798771ec64440e2f0>\n",
      "numTrees =  10\n",
      "100% of Training Data\n",
      "numFeatures =  <bound method HasNumFeatures.getNumFeatures of HashingTF_4f4798771ec64440e2f0>\n",
      "numTrees =  5\n"
     ]
    }
   ],
   "source": [
    "# Extracting Parameters from best model for each training set size\n",
    "\n",
    "print('20% of Training Data')\n",
    "\n",
    "bestPipeline = TVModel2.bestModel\n",
    "stages = bestPipeline.stages\n",
    "\n",
    "hashingStage = stages[5]\n",
    "print(\"numFeatures = \", hashingStage.getNumFeatures)\n",
    "\n",
    "rfStage = stages[9]\n",
    "print(\"numTrees = \", rfStage.getNumTrees)\n",
    "\n",
    "print('40% of Training Data')\n",
    "\n",
    "bestPipeline = TVModel3.bestModel\n",
    "stages = bestPipeline.stages\n",
    "\n",
    "hashingStage = stages[5]\n",
    "print(\"numFeatures = \", hashingStage.getNumFeatures)\n",
    "\n",
    "rfStage = stages[9]\n",
    "print(\"numTrees = \", rfStage.getNumTrees)\n",
    "\n",
    "print('60% of Training Data')\n",
    "\n",
    "bestPipeline = TVModel4.bestModel\n",
    "stages = bestPipeline.stages\n",
    "\n",
    "hashingStage = stages[5]\n",
    "print(\"numFeatures = \", hashingStage.getNumFeatures)\n",
    "\n",
    "rfStage = stages[9]\n",
    "print(\"numTrees = \", rfStage.getNumTrees)\n",
    "\n",
    "print('80% of Training Data')\n",
    "\n",
    "bestPipeline = TVModel5.bestModel\n",
    "stages = bestPipeline.stages\n",
    "\n",
    "hashingStage = stages[5]\n",
    "print(\"numFeatures = \", hashingStage.getNumFeatures)\n",
    "\n",
    "rfStage = stages[9]\n",
    "print(\"numTrees = \", rfStage.getNumTrees)\n",
    "\n",
    "print('100% of Training Data')\n",
    "\n",
    "bestPipeline = TVModel.bestModel\n",
    "stages = bestPipeline.stages\n",
    "\n",
    "hashingStage = stages[5]\n",
    "print(\"numFeatures = \", hashingStage.getNumFeatures)\n",
    "\n",
    "rfStage = stages[9]\n",
    "print(\"numTrees = \", rfStage.getNumTrees)\n",
    "\n",
    "# 5 is 0\n",
    "# 4 is 1\n",
    "# 3 is 3\n",
    "# 2 is 4\n",
    "# 1 is 2"
   ]
  },
  {
   "cell_type": "code",
   "execution_count": 26,
   "metadata": {
    "collapsed": false,
    "pixiedust": {
     "displayParams": {}
    }
   },
   "outputs": [
    {
     "data": {
      "text/plain": [
       "[['100%', 'Test', 0.6372609500308452],\n",
       " ['100%', 'Train', 0.6388306674020959],\n",
       " ['20%', 'Test', 0.6372785758350225],\n",
       " ['20%', 'Train', 0.6393791102942805],\n",
       " ['40%', 'Test', 0.6372873887371111],\n",
       " ['40%', 'Train', 0.6383137925912069],\n",
       " ['60%', 'Test', 0.6372168855204019],\n",
       " ['60%', 'Train', 0.6378146146909389],\n",
       " ['80%', 'Test', 0.6372873887371111],\n",
       " ['80%', 'Train', 0.6407289198337145]]"
      ]
     },
     "execution_count": 26,
     "metadata": {},
     "output_type": "execute_result"
    }
   ],
   "source": [
    "Results # Display the table of results for different training sizes"
   ]
  },
  {
   "cell_type": "code",
   "execution_count": 23,
   "metadata": {
    "collapsed": false
   },
   "outputs": [
    {
     "data": {
      "text/plain": [
       "[['100%', 'Train', 2844.32155418396],\n",
       " ['20%', 'Train', 816.2523674964905],\n",
       " ['40%', 'Train', 1378.9382939338684],\n",
       " ['60%', 'Train', 1969.3387386798859],\n",
       " ['80%', 'Train', 2738.700607061386],\n",
       " ['100%', 'Test', 46.780184268951416],\n",
       " ['20%', 'Test', 47.54750633239746],\n",
       " ['40%', 'Test', 47.275522232055664],\n",
       " ['60%', 'Test', 48.2775936126709],\n",
       " ['80%', 'Test', 47.6242413520813]]"
      ]
     },
     "execution_count": 23,
     "metadata": {},
     "output_type": "execute_result"
    }
   ],
   "source": [
    "Time # Display the table of time for different training sizes"
   ]
  },
  {
   "cell_type": "code",
   "execution_count": null,
   "metadata": {
    "collapsed": true
   },
   "outputs": [],
   "source": []
  }
 ],
 "metadata": {
  "kernelspec": {
   "display_name": "PySpark",
   "language": "python",
   "name": "pyspark"
  },
  "language_info": {
   "codemirror_mode": {
    "name": "ipython",
    "version": 3
   },
   "file_extension": ".py",
   "mimetype": "text/x-python",
   "name": "python",
   "nbconvert_exporter": "python",
   "pygments_lexer": "ipython3",
   "version": "3.5.2"
  }
 },
 "nbformat": 4,
 "nbformat_minor": 2
}
